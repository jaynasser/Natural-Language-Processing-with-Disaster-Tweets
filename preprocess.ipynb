{
 "cells": [
  {
   "cell_type": "code",
   "execution_count": null,
   "id": "263b2932",
   "metadata": {},
   "outputs": [],
   "source": [
    "import pandas as pd\n",
    "import string\n",
    "import re\n",
    "from nltk.tokenize import word_tokenize"
   ]
  },
  {
   "cell_type": "code",
   "execution_count": null,
   "id": "0c2982ce",
   "metadata": {},
   "outputs": [],
   "source": [
    "df = pd.read_csv('', index_col='id')"
   ]
  },
  {
   "cell_type": "code",
   "execution_count": null,
   "id": "a8af574c",
   "metadata": {},
   "outputs": [],
   "source": [
    "df['text'] = df['text'].apply(lambda x: x.lower())\n",
    "def find_hashtags(text):\n",
    "    return tuple(re.findall(r'#[\\w]+', text))\n",
    "def find_tagged(text):\n",
    "    return tuple(re.findall(r'@[\\w]+', text))\n",
    "def find_urls(text):\n",
    "    return tuple(re.findall(r'https?://(?:www\\.)?\\S+|www\\.\\S+', text))\n",
    "df['hashtag'] = df['text'].apply(lambda x: find_hashtags(x))\n",
    "df['tagged'] = df['text'].apply(lambda x: find_tagged(x))\n",
    "df['url'] = df['text'].apply(lambda x: find_urls(x))\n",
    "df['text_cleaned'] = df['text'].apply(lambda x: x.translate(str.maketrans('', '', string.punctuation)))\n",
    "df['tokens'] = df['text_cleaned'].apply(lambda x: word_tokenize(x))"
   ]
  },
  {
   "cell_type": "code",
   "execution_count": null,
   "id": "e25db5f8",
   "metadata": {},
   "outputs": [],
   "source": [
    "def get_ngrams(tokens, n):\n",
    "    return list([tokens[i: i + n] for i in range(len(tokens) - n)])"
   ]
  },
  {
   "cell_type": "code",
   "execution_count": null,
   "id": "5ca57e47",
   "metadata": {},
   "outputs": [],
   "source": [
    "df['bigrams'] = df['tokens'].apply(lambda x: get_ngrams(x, 2))\n",
    "df['trigrams'] = df['tokens'].apply(lambda x: get_ngrams(x, 3))"
   ]
  },
  {
   "cell_type": "code",
   "execution_count": null,
   "id": "50697be6",
   "metadata": {},
   "outputs": [],
   "source": [
    "df_disaster = df[df['target'] == 1]\n",
    "df_ordinary = df[df['target'] == 0]"
   ]
  },
  {
   "cell_type": "code",
   "execution_count": null,
   "id": "710b38d6",
   "metadata": {},
   "outputs": [],
   "source": [
    "def get_top_values(dataframe, column, num_values=50):\n",
    "    return pd.value_counts(\n",
    "        list(sum(dataframe[column].values, ()))\n",
    "    )[:num_values]\n",
    "top_hashtags_disaster = get_top_values(df_disaster, 'hashtag')\n",
    "top_hashtags_ordinary = get_top_values(df_ordinary, 'hashtag')"
   ]
  },
  {
   "cell_type": "code",
   "execution_count": null,
   "id": "7884b468",
   "metadata": {},
   "outputs": [],
   "source": [
    "df['has_disaster_hashtag'] = df['hashtag'].apply(lambda x: bool(sum([elt in top_hashtags_disaster for elt in x])))\n",
    "df['has_ordinary_hashtag'] = df['hashtag'].apply(lambda x: bool(sum([elt in top_hashtags_ordinary for elt in x])))"
   ]
  },
  {
   "cell_type": "code",
   "execution_count": null,
   "id": "ec16d204",
   "metadata": {},
   "outputs": [],
   "source": [
    "df"
   ]
  }
 ],
 "metadata": {
  "kernelspec": {
   "display_name": "Python 3",
   "language": "python",
   "name": "python3"
  },
  "language_info": {
   "codemirror_mode": {
    "name": "ipython",
    "version": 3
   },
   "file_extension": ".py",
   "mimetype": "text/x-python",
   "name": "python",
   "nbconvert_exporter": "python",
   "pygments_lexer": "ipython3",
   "version": "3.8.8"
  }
 },
 "nbformat": 4,
 "nbformat_minor": 5
}
